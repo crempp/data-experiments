{
 "cells": [
  {
   "cell_type": "code",
   "execution_count": 24,
   "metadata": {
    "collapsed": true,
    "ExecuteTime": {
     "end_time": "2023-06-20T20:53:35.523196Z",
     "start_time": "2023-06-20T20:53:35.477244Z"
    }
   },
   "outputs": [],
   "source": [
    "import pandas as pd\n",
    "import os\n",
    "import re\n",
    "\n",
    "df_w = pd.read_pickle(os.path.join(f'../airflow/datastore/wikipedia_result.pkl'))\n",
    "df_m = pd.read_pickle(os.path.join(f'../airflow/datastore/metacritic_result.pkl'))\n"
   ]
  },
  {
   "cell_type": "code",
   "execution_count": 9,
   "outputs": [
    {
     "data": {
      "text/plain": "                                    title  \\\n0                                #Funtime   \n1                         #killallzombies   \n2                 .hack//G.U. Last Recode   \n3                       10 Second Ninja X   \n4                             1001 Spikes   \n...                                   ...   \n3873     eFootball PES 2021 Season Update   \n3874  eFootball Pro Evolution Soccer 2020   \n3875                                   iO   \n3876                             unWorded   \n3877                             Ōkami HD   \n\n                                                    url  response_code  \\\n0     https://www.metacritic.com/game/playstation-4/...            404   \n1     https://www.metacritic.com/game/playstation-4/...            404   \n2     https://www.metacritic.com/game/playstation-4/...            404   \n3     https://www.metacritic.com/game/playstation-4/...            200   \n4     https://www.metacritic.com/game/playstation-4/...            200   \n...                                                 ...            ...   \n3873  https://www.metacritic.com/game/playstation-4/...            404   \n3874  https://www.metacritic.com/game/playstation-4/...            404   \n3875   https://www.metacritic.com/game/playstation-4/io            200   \n3876  https://www.metacritic.com/game/playstation-4/...            404   \n3877  https://www.metacritic.com/game/playstation-4/...            404   \n\n          publisher       release metascore metascore_count userscore  \\\n0               NaN           NaN       NaN             NaN       NaN   \n1               NaN           NaN       NaN             NaN       NaN   \n2               NaN           NaN       NaN             NaN       NaN   \n3     Curve Digital  Jul 19, 2016        76              16       5.5   \n4           Nicalis  Jun  3, 2014        78               8       6.5   \n...             ...           ...       ...             ...       ...   \n3873            NaN           NaN       NaN             NaN       NaN   \n3874            NaN           NaN       NaN             NaN       NaN   \n3875        Gamious  Feb 14, 2017        68               7       tbd   \n3876            NaN           NaN       NaN             NaN       NaN   \n3877            NaN           NaN       NaN             NaN       NaN   \n\n     userscore_count                                            summary  \\\n0                NaN                                                NaN   \n1                NaN                                                NaN   \n2                NaN                                                NaN   \n3         23 Ratings  10 Second Ninja X is a hardcore sidescroller. ...   \n4         37 Ratings  Aban Hawkins & the 1,001 Spikes is a 2D platfo...   \n...              ...                                                ...   \n3873             NaN                                                NaN   \n3874             NaN                                                NaN   \n3875            None  iO is an abstract Puzzle Platformer about size...   \n3876             NaN                                                NaN   \n3877             NaN                                                NaN   \n\n          developer                                    genres  \\\n0               NaN                                       NaN   \n1               NaN                                       NaN   \n2               NaN                                       NaN   \n3     GameDesignDan                  [Action, Platformer, 2D]   \n4           Nicalis  [Action, Platformer, Platformer, 2D, 2D]   \n...             ...                                       ...   \n3873            NaN                                       NaN   \n3874            NaN                                       NaN   \n3875        Gamious                          [Puzzle, Action]   \n3876            NaN                                       NaN   \n3877            NaN                                       NaN   \n\n                    players rating  \\\n0                       NaN    NaN   \n1                       NaN    NaN   \n2                       NaN    NaN   \n3     No Online Multiplayer      T   \n4     No Online Multiplayer      T   \n...                     ...    ...   \n3873                    NaN    NaN   \n3874                    NaN    NaN   \n3875  No Online Multiplayer      E   \n3876                    NaN    NaN   \n3877                    NaN    NaN   \n\n                                                  image  \n0                                                   NaN  \n1                                                   NaN  \n2                                                   NaN  \n3     https://static.metacritic.com/images/products/...  \n4     https://static.metacritic.com/images/products/...  \n...                                                 ...  \n3873                                                NaN  \n3874                                                NaN  \n3875  https://static.metacritic.com/images/products/...  \n3876                                                NaN  \n3877                                                NaN  \n\n[3878 rows x 15 columns]",
      "text/html": "<div>\n<style scoped>\n    .dataframe tbody tr th:only-of-type {\n        vertical-align: middle;\n    }\n\n    .dataframe tbody tr th {\n        vertical-align: top;\n    }\n\n    .dataframe thead th {\n        text-align: right;\n    }\n</style>\n<table border=\"1\" class=\"dataframe\">\n  <thead>\n    <tr style=\"text-align: right;\">\n      <th></th>\n      <th>title</th>\n      <th>url</th>\n      <th>response_code</th>\n      <th>publisher</th>\n      <th>release</th>\n      <th>metascore</th>\n      <th>metascore_count</th>\n      <th>userscore</th>\n      <th>userscore_count</th>\n      <th>summary</th>\n      <th>developer</th>\n      <th>genres</th>\n      <th>players</th>\n      <th>rating</th>\n      <th>image</th>\n    </tr>\n  </thead>\n  <tbody>\n    <tr>\n      <th>0</th>\n      <td>#Funtime</td>\n      <td>https://www.metacritic.com/game/playstation-4/...</td>\n      <td>404</td>\n      <td>NaN</td>\n      <td>NaN</td>\n      <td>NaN</td>\n      <td>NaN</td>\n      <td>NaN</td>\n      <td>NaN</td>\n      <td>NaN</td>\n      <td>NaN</td>\n      <td>NaN</td>\n      <td>NaN</td>\n      <td>NaN</td>\n      <td>NaN</td>\n    </tr>\n    <tr>\n      <th>1</th>\n      <td>#killallzombies</td>\n      <td>https://www.metacritic.com/game/playstation-4/...</td>\n      <td>404</td>\n      <td>NaN</td>\n      <td>NaN</td>\n      <td>NaN</td>\n      <td>NaN</td>\n      <td>NaN</td>\n      <td>NaN</td>\n      <td>NaN</td>\n      <td>NaN</td>\n      <td>NaN</td>\n      <td>NaN</td>\n      <td>NaN</td>\n      <td>NaN</td>\n    </tr>\n    <tr>\n      <th>2</th>\n      <td>.hack//G.U. Last Recode</td>\n      <td>https://www.metacritic.com/game/playstation-4/...</td>\n      <td>404</td>\n      <td>NaN</td>\n      <td>NaN</td>\n      <td>NaN</td>\n      <td>NaN</td>\n      <td>NaN</td>\n      <td>NaN</td>\n      <td>NaN</td>\n      <td>NaN</td>\n      <td>NaN</td>\n      <td>NaN</td>\n      <td>NaN</td>\n      <td>NaN</td>\n    </tr>\n    <tr>\n      <th>3</th>\n      <td>10 Second Ninja X</td>\n      <td>https://www.metacritic.com/game/playstation-4/...</td>\n      <td>200</td>\n      <td>Curve Digital</td>\n      <td>Jul 19, 2016</td>\n      <td>76</td>\n      <td>16</td>\n      <td>5.5</td>\n      <td>23 Ratings</td>\n      <td>10 Second Ninja X is a hardcore sidescroller. ...</td>\n      <td>GameDesignDan</td>\n      <td>[Action, Platformer, 2D]</td>\n      <td>No Online Multiplayer</td>\n      <td>T</td>\n      <td>https://static.metacritic.com/images/products/...</td>\n    </tr>\n    <tr>\n      <th>4</th>\n      <td>1001 Spikes</td>\n      <td>https://www.metacritic.com/game/playstation-4/...</td>\n      <td>200</td>\n      <td>Nicalis</td>\n      <td>Jun  3, 2014</td>\n      <td>78</td>\n      <td>8</td>\n      <td>6.5</td>\n      <td>37 Ratings</td>\n      <td>Aban Hawkins &amp; the 1,001 Spikes is a 2D platfo...</td>\n      <td>Nicalis</td>\n      <td>[Action, Platformer, Platformer, 2D, 2D]</td>\n      <td>No Online Multiplayer</td>\n      <td>T</td>\n      <td>https://static.metacritic.com/images/products/...</td>\n    </tr>\n    <tr>\n      <th>...</th>\n      <td>...</td>\n      <td>...</td>\n      <td>...</td>\n      <td>...</td>\n      <td>...</td>\n      <td>...</td>\n      <td>...</td>\n      <td>...</td>\n      <td>...</td>\n      <td>...</td>\n      <td>...</td>\n      <td>...</td>\n      <td>...</td>\n      <td>...</td>\n      <td>...</td>\n    </tr>\n    <tr>\n      <th>3873</th>\n      <td>eFootball PES 2021 Season Update</td>\n      <td>https://www.metacritic.com/game/playstation-4/...</td>\n      <td>404</td>\n      <td>NaN</td>\n      <td>NaN</td>\n      <td>NaN</td>\n      <td>NaN</td>\n      <td>NaN</td>\n      <td>NaN</td>\n      <td>NaN</td>\n      <td>NaN</td>\n      <td>NaN</td>\n      <td>NaN</td>\n      <td>NaN</td>\n      <td>NaN</td>\n    </tr>\n    <tr>\n      <th>3874</th>\n      <td>eFootball Pro Evolution Soccer 2020</td>\n      <td>https://www.metacritic.com/game/playstation-4/...</td>\n      <td>404</td>\n      <td>NaN</td>\n      <td>NaN</td>\n      <td>NaN</td>\n      <td>NaN</td>\n      <td>NaN</td>\n      <td>NaN</td>\n      <td>NaN</td>\n      <td>NaN</td>\n      <td>NaN</td>\n      <td>NaN</td>\n      <td>NaN</td>\n      <td>NaN</td>\n    </tr>\n    <tr>\n      <th>3875</th>\n      <td>iO</td>\n      <td>https://www.metacritic.com/game/playstation-4/io</td>\n      <td>200</td>\n      <td>Gamious</td>\n      <td>Feb 14, 2017</td>\n      <td>68</td>\n      <td>7</td>\n      <td>tbd</td>\n      <td>None</td>\n      <td>iO is an abstract Puzzle Platformer about size...</td>\n      <td>Gamious</td>\n      <td>[Puzzle, Action]</td>\n      <td>No Online Multiplayer</td>\n      <td>E</td>\n      <td>https://static.metacritic.com/images/products/...</td>\n    </tr>\n    <tr>\n      <th>3876</th>\n      <td>unWorded</td>\n      <td>https://www.metacritic.com/game/playstation-4/...</td>\n      <td>404</td>\n      <td>NaN</td>\n      <td>NaN</td>\n      <td>NaN</td>\n      <td>NaN</td>\n      <td>NaN</td>\n      <td>NaN</td>\n      <td>NaN</td>\n      <td>NaN</td>\n      <td>NaN</td>\n      <td>NaN</td>\n      <td>NaN</td>\n      <td>NaN</td>\n    </tr>\n    <tr>\n      <th>3877</th>\n      <td>Ōkami HD</td>\n      <td>https://www.metacritic.com/game/playstation-4/...</td>\n      <td>404</td>\n      <td>NaN</td>\n      <td>NaN</td>\n      <td>NaN</td>\n      <td>NaN</td>\n      <td>NaN</td>\n      <td>NaN</td>\n      <td>NaN</td>\n      <td>NaN</td>\n      <td>NaN</td>\n      <td>NaN</td>\n      <td>NaN</td>\n      <td>NaN</td>\n    </tr>\n  </tbody>\n</table>\n<p>3878 rows × 15 columns</p>\n</div>"
     },
     "execution_count": 9,
     "metadata": {},
     "output_type": "execute_result"
    }
   ],
   "source": [
    "df_m\n"
   ],
   "metadata": {
    "collapsed": false,
    "ExecuteTime": {
     "end_time": "2023-06-20T19:41:34.686433Z",
     "start_time": "2023-06-20T19:41:34.684393Z"
    }
   }
  }
 ],
 "metadata": {
  "kernelspec": {
   "display_name": "Python 3",
   "language": "python",
   "name": "python3"
  },
  "language_info": {
   "codemirror_mode": {
    "name": "ipython",
    "version": 2
   },
   "file_extension": ".py",
   "mimetype": "text/x-python",
   "name": "python",
   "nbconvert_exporter": "python",
   "pygments_lexer": "ipython2",
   "version": "2.7.6"
  }
 },
 "nbformat": 4,
 "nbformat_minor": 0
}
