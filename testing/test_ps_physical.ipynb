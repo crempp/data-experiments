{
 "cells": [
  {
   "cell_type": "code",
   "execution_count": 46,
   "metadata": {
    "collapsed": true,
    "ExecuteTime": {
     "end_time": "2023-06-21T02:46:24.916220Z",
     "start_time": "2023-06-21T02:46:24.914638Z"
    }
   },
   "outputs": [],
   "source": [
    "import json\n",
    "import pandas as pd\n",
    "import requests\n",
    "import time\n",
    "\n",
    "BASE_URL = 'https://api.direct.playstation.com/commercewebservices/ps-direct-us/products/category/SIECategory101?fields=FULL'\n",
    "\n",
    "HEADERS  = [\n",
    "    'availableForPickup',\n",
    "    'baseProduct',\n",
    "    'code',\n",
    "    'configurable',\n",
    "    'description',\n",
    "    'images',\n",
    "    'isMilitaryRestricted',\n",
    "    'klarnaEnabled',\n",
    "    'loginGated',\n",
    "    'name',\n",
    "    'preOrderProduct',\n",
    "    'streetDate',\n",
    "    'url',\n",
    "    'validProductCode',\n",
    "    'volumePricesFlag',\n",
    "    'price.basePrice',\n",
    "    'price.currencyIso',\n",
    "    'price.currencySymbol',\n",
    "    'price.decimalPrice',\n",
    "    'price.formattedValue',\n",
    "    'price.priceType',\n",
    "    'price.value',\n",
    "    'stock.isProductLowStock',\n",
    "    'stock.stockLevelStatus',\n",
    "    'merchandisingBadge'\n",
    "]\n",
    "\n",
    "session = requests.Session()"
   ]
  },
  {
   "cell_type": "code",
   "execution_count": 65,
   "outputs": [
    {
     "name": "stdout",
     "output_type": "stream",
     "text": [
      "https://api.direct.playstation.com/commercewebservices/ps-direct-us/products/category/SIECategory101?fields=FULL&currentPage=0&sort=onlineDate-desc\n",
      "total_pages 4\n",
      "current_page 0\n",
      "new_page 1\n",
      "df_page 20\n",
      "df 20\n",
      "\n",
      "https://api.direct.playstation.com/commercewebservices/ps-direct-us/products/category/SIECategory101?fields=FULL&currentPage=1&sort=onlineDate-desc\n",
      "total_pages 4\n",
      "current_page 1\n",
      "new_page 2\n",
      "df_page 20\n",
      "df 40\n",
      "\n",
      "https://api.direct.playstation.com/commercewebservices/ps-direct-us/products/category/SIECategory101?fields=FULL&currentPage=2&sort=onlineDate-desc\n",
      "total_pages 4\n",
      "current_page 2\n",
      "new_page 3\n",
      "df_page 20\n",
      "df 60\n",
      "\n",
      "https://api.direct.playstation.com/commercewebservices/ps-direct-us/products/category/SIECategory101?fields=FULL&currentPage=3&sort=onlineDate-desc\n",
      "total_pages 4\n",
      "current_page 3\n",
      "new_page 4\n",
      "df_page 14\n",
      "df 74\n",
      "\n"
     ]
    },
    {
     "data": {
      "text/plain": "    availableForPickup          baseProduct        code  configurable  \\\n0                False       SpiderMan2BASE  1000038679         False   \n1                False       SpiderMan2BASE  1000038068         False   \n2                False       1000037514Base  1000037514         False   \n3                False       1000037507Base  1000037507         False   \n4                False     PCHelldiversBase  1000037979         False   \n..                 ...                  ...         ...           ...   \n69               False          3003537Base     3003537         False   \n70               False          3003539Base     3003539         False   \n71               False          3003513Base     3003513         False   \n72               False          3006721Base     3006721         False   \n73               False  GranTurismo7PS5Base     3005729         False   \n\n                                          description  \\\n0   <p>Swing, jump, and utilize the new Web Wings ...   \n1   <p>Swing, jump, and utilize the new Web Wings ...   \n2   <p>Developed by Insomniac Games in collaborati...   \n3   <p>After the events of <em>Marvel’s Spider-Man...   \n4   <p>HELLDIVERS™ is a hardcore, cooperative, twi...   \n..                                                ...   \n69  <p>Begin your journey to a horror-filled gothi...   \n70  <p>Sackboy&reg; is back with new friends! Play...   \n71  <p>20 years after a pandemic has changed civil...   \n72  <p>Now bigger, better and more beautiful -with...   \n73  <p>Gran Turismo® 7 brings together the very be...   \n\n                                               images  isMilitaryRestricted  \\\n0   https://media.direct.playstation.com/is/image/...                 False   \n1   https://media.direct.playstation.com/is/image/...                 False   \n2   https://media.direct.playstation.com/is/image/...                 False   \n3   https://media.direct.playstation.com/is/image/...                 False   \n4   https://media.direct.playstation.com/is/image/...                 False   \n..                                                ...                   ...   \n69  https://media.direct.playstation.com/is/image/...                 False   \n70  https://media.direct.playstation.com/is/image/...                 False   \n71  https://media.direct.playstation.com/is/image/...                 False   \n72  https://media.direct.playstation.com/is/image/...                 False   \n73  https://media.direct.playstation.com/is/image/...                 False   \n\n    klarnaEnabled  loginGated  \\\n0           False       False   \n1           False       False   \n2           False       False   \n3           False       False   \n4           False       False   \n..            ...         ...   \n69          False       False   \n70          False       False   \n71          False       False   \n72          False       False   \n73          False       False   \n\n                                               name  ...  price.basePrice  \\\n0        Marvel's Spider-Man 2 Launch Edition – PS5  ...               69   \n1   Marvel's Spider-Man 2 Collector's Edition – PS5  ...              229   \n2               Marvel's Spider-Man Remastered - PC  ...               59   \n3           Marvel's Spider-Man: Miles Morales - PC  ...               49   \n4           HELLDIVERS™ Digital Deluxe Edition - PC  ...               39   \n..                                              ...  ...              ...   \n69                                 Bloodborne | PS4  ...               19   \n70                          LittleBigPlanet 3 - PS4  ...               19   \n71                  The Last Of Us Remastered - PS4  ...               19   \n72             Minecraft - Starter Collection - PS4  ...               29   \n73                             Gran Turismo 7 - PS5  ...               69   \n\n   price.currencyIso price.currencySymbol  price.decimalPrice  \\\n0                USD                    $                  99   \n1                USD                    $                  99   \n2                USD                    $                  99   \n3                USD                    $                  99   \n4                USD                    $                  99   \n..               ...                  ...                 ...   \n69               USD                    $                  99   \n70               USD                    $                  99   \n71               USD                    $                  99   \n72               USD                    $                  99   \n73               USD                    $                  99   \n\n    price.formattedValue price.priceType price.value stock.isProductLowStock  \\\n0                 $69.99             BUY       69.99                   False   \n1                $229.99             BUY      229.99                   False   \n2                 $59.99             BUY       59.99                   False   \n3                 $49.99             BUY       49.99                   False   \n4                 $39.99             BUY       39.99                   False   \n..                   ...             ...         ...                     ...   \n69                $19.99             BUY       19.99                   False   \n70                $19.99             BUY       19.99                   False   \n71                $19.99             BUY       19.99                   False   \n72                $29.99             BUY       29.99                   False   \n73                $69.99             BUY       69.99                   False   \n\n   stock.stockLevelStatus merchandisingBadge  \n0                 inStock                NaN  \n1                 inStock                NaN  \n2                 inStock                NaN  \n3                 inStock                NaN  \n4                 inStock                NaN  \n..                    ...                ...  \n69                inStock                NaN  \n70                inStock                NaN  \n71                inStock                NaN  \n72                inStock                NaN  \n73                inStock                NaN  \n\n[74 rows x 25 columns]",
      "text/html": "<div>\n<style scoped>\n    .dataframe tbody tr th:only-of-type {\n        vertical-align: middle;\n    }\n\n    .dataframe tbody tr th {\n        vertical-align: top;\n    }\n\n    .dataframe thead th {\n        text-align: right;\n    }\n</style>\n<table border=\"1\" class=\"dataframe\">\n  <thead>\n    <tr style=\"text-align: right;\">\n      <th></th>\n      <th>availableForPickup</th>\n      <th>baseProduct</th>\n      <th>code</th>\n      <th>configurable</th>\n      <th>description</th>\n      <th>images</th>\n      <th>isMilitaryRestricted</th>\n      <th>klarnaEnabled</th>\n      <th>loginGated</th>\n      <th>name</th>\n      <th>...</th>\n      <th>price.basePrice</th>\n      <th>price.currencyIso</th>\n      <th>price.currencySymbol</th>\n      <th>price.decimalPrice</th>\n      <th>price.formattedValue</th>\n      <th>price.priceType</th>\n      <th>price.value</th>\n      <th>stock.isProductLowStock</th>\n      <th>stock.stockLevelStatus</th>\n      <th>merchandisingBadge</th>\n    </tr>\n  </thead>\n  <tbody>\n    <tr>\n      <th>0</th>\n      <td>False</td>\n      <td>SpiderMan2BASE</td>\n      <td>1000038679</td>\n      <td>False</td>\n      <td>&lt;p&gt;Swing, jump, and utilize the new Web Wings ...</td>\n      <td>https://media.direct.playstation.com/is/image/...</td>\n      <td>False</td>\n      <td>False</td>\n      <td>False</td>\n      <td>Marvel's Spider-Man 2 Launch Edition – PS5</td>\n      <td>...</td>\n      <td>69</td>\n      <td>USD</td>\n      <td>$</td>\n      <td>99</td>\n      <td>$69.99</td>\n      <td>BUY</td>\n      <td>69.99</td>\n      <td>False</td>\n      <td>inStock</td>\n      <td>NaN</td>\n    </tr>\n    <tr>\n      <th>1</th>\n      <td>False</td>\n      <td>SpiderMan2BASE</td>\n      <td>1000038068</td>\n      <td>False</td>\n      <td>&lt;p&gt;Swing, jump, and utilize the new Web Wings ...</td>\n      <td>https://media.direct.playstation.com/is/image/...</td>\n      <td>False</td>\n      <td>False</td>\n      <td>False</td>\n      <td>Marvel's Spider-Man 2 Collector's Edition – PS5</td>\n      <td>...</td>\n      <td>229</td>\n      <td>USD</td>\n      <td>$</td>\n      <td>99</td>\n      <td>$229.99</td>\n      <td>BUY</td>\n      <td>229.99</td>\n      <td>False</td>\n      <td>inStock</td>\n      <td>NaN</td>\n    </tr>\n    <tr>\n      <th>2</th>\n      <td>False</td>\n      <td>1000037514Base</td>\n      <td>1000037514</td>\n      <td>False</td>\n      <td>&lt;p&gt;Developed by Insomniac Games in collaborati...</td>\n      <td>https://media.direct.playstation.com/is/image/...</td>\n      <td>False</td>\n      <td>False</td>\n      <td>False</td>\n      <td>Marvel's Spider-Man Remastered - PC</td>\n      <td>...</td>\n      <td>59</td>\n      <td>USD</td>\n      <td>$</td>\n      <td>99</td>\n      <td>$59.99</td>\n      <td>BUY</td>\n      <td>59.99</td>\n      <td>False</td>\n      <td>inStock</td>\n      <td>NaN</td>\n    </tr>\n    <tr>\n      <th>3</th>\n      <td>False</td>\n      <td>1000037507Base</td>\n      <td>1000037507</td>\n      <td>False</td>\n      <td>&lt;p&gt;After the events of &lt;em&gt;Marvel’s Spider-Man...</td>\n      <td>https://media.direct.playstation.com/is/image/...</td>\n      <td>False</td>\n      <td>False</td>\n      <td>False</td>\n      <td>Marvel's Spider-Man: Miles Morales - PC</td>\n      <td>...</td>\n      <td>49</td>\n      <td>USD</td>\n      <td>$</td>\n      <td>99</td>\n      <td>$49.99</td>\n      <td>BUY</td>\n      <td>49.99</td>\n      <td>False</td>\n      <td>inStock</td>\n      <td>NaN</td>\n    </tr>\n    <tr>\n      <th>4</th>\n      <td>False</td>\n      <td>PCHelldiversBase</td>\n      <td>1000037979</td>\n      <td>False</td>\n      <td>&lt;p&gt;HELLDIVERS™ is a hardcore, cooperative, twi...</td>\n      <td>https://media.direct.playstation.com/is/image/...</td>\n      <td>False</td>\n      <td>False</td>\n      <td>False</td>\n      <td>HELLDIVERS™ Digital Deluxe Edition - PC</td>\n      <td>...</td>\n      <td>39</td>\n      <td>USD</td>\n      <td>$</td>\n      <td>99</td>\n      <td>$39.99</td>\n      <td>BUY</td>\n      <td>39.99</td>\n      <td>False</td>\n      <td>inStock</td>\n      <td>NaN</td>\n    </tr>\n    <tr>\n      <th>...</th>\n      <td>...</td>\n      <td>...</td>\n      <td>...</td>\n      <td>...</td>\n      <td>...</td>\n      <td>...</td>\n      <td>...</td>\n      <td>...</td>\n      <td>...</td>\n      <td>...</td>\n      <td>...</td>\n      <td>...</td>\n      <td>...</td>\n      <td>...</td>\n      <td>...</td>\n      <td>...</td>\n      <td>...</td>\n      <td>...</td>\n      <td>...</td>\n      <td>...</td>\n      <td>...</td>\n    </tr>\n    <tr>\n      <th>69</th>\n      <td>False</td>\n      <td>3003537Base</td>\n      <td>3003537</td>\n      <td>False</td>\n      <td>&lt;p&gt;Begin your journey to a horror-filled gothi...</td>\n      <td>https://media.direct.playstation.com/is/image/...</td>\n      <td>False</td>\n      <td>False</td>\n      <td>False</td>\n      <td>Bloodborne | PS4</td>\n      <td>...</td>\n      <td>19</td>\n      <td>USD</td>\n      <td>$</td>\n      <td>99</td>\n      <td>$19.99</td>\n      <td>BUY</td>\n      <td>19.99</td>\n      <td>False</td>\n      <td>inStock</td>\n      <td>NaN</td>\n    </tr>\n    <tr>\n      <th>70</th>\n      <td>False</td>\n      <td>3003539Base</td>\n      <td>3003539</td>\n      <td>False</td>\n      <td>&lt;p&gt;Sackboy&amp;reg; is back with new friends! Play...</td>\n      <td>https://media.direct.playstation.com/is/image/...</td>\n      <td>False</td>\n      <td>False</td>\n      <td>False</td>\n      <td>LittleBigPlanet 3 - PS4</td>\n      <td>...</td>\n      <td>19</td>\n      <td>USD</td>\n      <td>$</td>\n      <td>99</td>\n      <td>$19.99</td>\n      <td>BUY</td>\n      <td>19.99</td>\n      <td>False</td>\n      <td>inStock</td>\n      <td>NaN</td>\n    </tr>\n    <tr>\n      <th>71</th>\n      <td>False</td>\n      <td>3003513Base</td>\n      <td>3003513</td>\n      <td>False</td>\n      <td>&lt;p&gt;20 years after a pandemic has changed civil...</td>\n      <td>https://media.direct.playstation.com/is/image/...</td>\n      <td>False</td>\n      <td>False</td>\n      <td>False</td>\n      <td>The Last Of Us Remastered - PS4</td>\n      <td>...</td>\n      <td>19</td>\n      <td>USD</td>\n      <td>$</td>\n      <td>99</td>\n      <td>$19.99</td>\n      <td>BUY</td>\n      <td>19.99</td>\n      <td>False</td>\n      <td>inStock</td>\n      <td>NaN</td>\n    </tr>\n    <tr>\n      <th>72</th>\n      <td>False</td>\n      <td>3006721Base</td>\n      <td>3006721</td>\n      <td>False</td>\n      <td>&lt;p&gt;Now bigger, better and more beautiful -with...</td>\n      <td>https://media.direct.playstation.com/is/image/...</td>\n      <td>False</td>\n      <td>False</td>\n      <td>False</td>\n      <td>Minecraft - Starter Collection - PS4</td>\n      <td>...</td>\n      <td>29</td>\n      <td>USD</td>\n      <td>$</td>\n      <td>99</td>\n      <td>$29.99</td>\n      <td>BUY</td>\n      <td>29.99</td>\n      <td>False</td>\n      <td>inStock</td>\n      <td>NaN</td>\n    </tr>\n    <tr>\n      <th>73</th>\n      <td>False</td>\n      <td>GranTurismo7PS5Base</td>\n      <td>3005729</td>\n      <td>False</td>\n      <td>&lt;p&gt;Gran Turismo® 7 brings together the very be...</td>\n      <td>https://media.direct.playstation.com/is/image/...</td>\n      <td>False</td>\n      <td>False</td>\n      <td>False</td>\n      <td>Gran Turismo 7 - PS5</td>\n      <td>...</td>\n      <td>69</td>\n      <td>USD</td>\n      <td>$</td>\n      <td>99</td>\n      <td>$69.99</td>\n      <td>BUY</td>\n      <td>69.99</td>\n      <td>False</td>\n      <td>inStock</td>\n      <td>NaN</td>\n    </tr>\n  </tbody>\n</table>\n<p>74 rows × 25 columns</p>\n</div>"
     },
     "execution_count": 65,
     "metadata": {},
     "output_type": "execute_result"
    }
   ],
   "source": [
    "current_page = 0\n",
    "sort = 'onlineDate-desc'\n",
    "\n",
    "df = pd.DataFrame(columns=HEADERS)\n",
    "\n",
    "while True:\n",
    "    url = f'{BASE_URL}&currentPage={current_page}&sort={sort}'\n",
    "    print(url)\n",
    "    response = session.get(url)\n",
    "\n",
    "    j = json.loads(response.text)\n",
    "\n",
    "    total_pages = j['pagination']['totalPages']\n",
    "    total_results = j['pagination']['totalResults']\n",
    "\n",
    "    products = j['products']\n",
    "    df_page = pd.json_normalize(products)\n",
    "    df_page['images'] = df_page['images'].map(lambda a: a[0]['url'])\n",
    "\n",
    "    df = df.merge(df_page, how='outer')\n",
    "\n",
    "    print(f'total_pages {total_pages}')\n",
    "    print(f'current_page {current_page}')\n",
    "\n",
    "    current_page = current_page + 1\n",
    "\n",
    "    print(f'new_page {current_page}')\n",
    "    print(f'df_page {len(df_page)}')\n",
    "    print(f'df {len(df)}')\n",
    "    print()\n",
    "\n",
    "    if current_page >= total_pages:\n",
    "        break\n",
    "\n",
    "    time.sleep(1)\n",
    "\n",
    "df\n"
   ],
   "metadata": {
    "collapsed": false,
    "ExecuteTime": {
     "end_time": "2023-06-21T03:02:19.603049Z",
     "start_time": "2023-06-21T03:02:16.234736Z"
    }
   }
  },
  {
   "cell_type": "code",
   "execution_count": 45,
   "outputs": [],
   "source": [],
   "metadata": {
    "collapsed": false,
    "ExecuteTime": {
     "end_time": "2023-06-21T02:45:50.598210Z",
     "start_time": "2023-06-21T02:45:50.585349Z"
    }
   }
  },
  {
   "cell_type": "code",
   "execution_count": null,
   "outputs": [],
   "source": [],
   "metadata": {
    "collapsed": false
   }
  }
 ],
 "metadata": {
  "kernelspec": {
   "display_name": "Python 3",
   "language": "python",
   "name": "python3"
  },
  "language_info": {
   "codemirror_mode": {
    "name": "ipython",
    "version": 2
   },
   "file_extension": ".py",
   "mimetype": "text/x-python",
   "name": "python",
   "nbconvert_exporter": "python",
   "pygments_lexer": "ipython2",
   "version": "2.7.6"
  }
 },
 "nbformat": 4,
 "nbformat_minor": 0
}
