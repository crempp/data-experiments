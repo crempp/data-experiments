{
 "cells": [
  {
   "cell_type": "code",
   "execution_count": 1,
   "metadata": {
    "collapsed": true,
    "ExecuteTime": {
     "end_time": "2023-06-21T19:37:31.875509Z",
     "start_time": "2023-06-21T19:37:31.239042Z"
    }
   },
   "outputs": [],
   "source": [
    "import os\n",
    "import pandas as pd\n",
    "import pathlib\n",
    "\n",
    "AIRFLOW_PATH = os.path.normpath(os.getcwd() + '../../airflow')"
   ]
  },
  {
   "cell_type": "code",
   "execution_count": 2,
   "outputs": [],
   "source": [
    "df = pd.read_pickle(f'{AIRFLOW_PATH}/datastore/wikipedia_result.pkl')"
   ],
   "metadata": {
    "collapsed": false,
    "ExecuteTime": {
     "end_time": "2023-06-21T19:37:50.865051Z",
     "start_time": "2023-06-21T19:37:50.815932Z"
    }
   }
  },
  {
   "cell_type": "code",
   "execution_count": 62,
   "outputs": [
    {
     "data": {
      "text/plain": "                       Genre\n221                   Action\n241      Action Role-Playing\n213                Adventure\n212                      Art\n220              Beat 'Em Up\n..                       ...\n200  Vehicle Simulation Game\n52          Vehicular Combat\n189        Vehicular Sandbox\n16              Visual Novel\n91            War Simulation\n\n[245 rows x 1 columns]",
      "text/html": "<div>\n<style scoped>\n    .dataframe tbody tr th:only-of-type {\n        vertical-align: middle;\n    }\n\n    .dataframe tbody tr th {\n        vertical-align: top;\n    }\n\n    .dataframe thead th {\n        text-align: right;\n    }\n</style>\n<table border=\"1\" class=\"dataframe\">\n  <thead>\n    <tr style=\"text-align: right;\">\n      <th></th>\n      <th>Genre</th>\n    </tr>\n  </thead>\n  <tbody>\n    <tr>\n      <th>221</th>\n      <td>Action</td>\n    </tr>\n    <tr>\n      <th>241</th>\n      <td>Action Role-Playing</td>\n    </tr>\n    <tr>\n      <th>213</th>\n      <td>Adventure</td>\n    </tr>\n    <tr>\n      <th>212</th>\n      <td>Art</td>\n    </tr>\n    <tr>\n      <th>220</th>\n      <td>Beat 'Em Up</td>\n    </tr>\n    <tr>\n      <th>...</th>\n      <td>...</td>\n    </tr>\n    <tr>\n      <th>200</th>\n      <td>Vehicle Simulation Game</td>\n    </tr>\n    <tr>\n      <th>52</th>\n      <td>Vehicular Combat</td>\n    </tr>\n    <tr>\n      <th>189</th>\n      <td>Vehicular Sandbox</td>\n    </tr>\n    <tr>\n      <th>16</th>\n      <td>Visual Novel</td>\n    </tr>\n    <tr>\n      <th>91</th>\n      <td>War Simulation</td>\n    </tr>\n  </tbody>\n</table>\n<p>245 rows × 1 columns</p>\n</div>"
     },
     "execution_count": 62,
     "metadata": {},
     "output_type": "execute_result"
    }
   ],
   "source": [
    "# Explode tuples\n",
    "genres_full = df['Genre'].explode('Genre')\n",
    "# Split any remaining comma seperated lists\n",
    "genres_full = genres_full.str.split(',', expand=True)\n",
    "genres_full = genres_full[0].to_frame(name=\"Genre\").merge(genres_full[1].to_frame(name=\"Genre\"), how='outer', on='Genre')\n",
    "genres_full = genres_full['Genre']\n",
    "genres_full = genres_full[genres_full.notnull()]\n",
    "\n",
    "# Capitalize words\n",
    "genres_capitalized = genres_full.map(lambda a: a.title())\n",
    "\n",
    "# Reduce to unique entries\n",
    "genres_unique = genres_capitalized.unique()\n",
    "# unique gives us an ndarray, convert back to a dataframe\n",
    "genres_unique = pd.DataFrame(data=genres_unique, columns=['Genre'])\n",
    "\n",
    "# Sort\n",
    "genres_unique.sort_values(by='Genre')\n",
    "\n"
   ],
   "metadata": {
    "collapsed": false,
    "ExecuteTime": {
     "end_time": "2023-06-21T20:04:18.885508Z",
     "start_time": "2023-06-21T20:04:18.873617Z"
    }
   }
  },
  {
   "cell_type": "code",
   "execution_count": 86,
   "outputs": [],
   "source": [
    "def generate_genre_map(df):\n",
    "    \"\"\"Create a base mapping to a standardized genre name from the mess that Wikipedia has.\n",
    "\n",
    "    This function takes a DataFrame (df) from the Wikipedia job.\n",
    "    \"\"\"\n",
    "    # Explode tuples\n",
    "    genres_full = df['Genre'].explode('Genre')\n",
    "    # Split any remaining comma seperated lists\n",
    "    genres_full = genres_full.str.split(',', expand=True)\n",
    "    genres_full = genres_full[0].to_frame(name=\"Genre\").merge(genres_full[1].to_frame(name=\"Genre\"), how='outer', on='Genre')\n",
    "    genres_full = genres_full['Genre']\n",
    "    genres_full = genres_full[genres_full.notnull()]\n",
    "\n",
    "    # Create the mapping dataframe\n",
    "    genre_map = pd.DataFrame({\n",
    "        'from': genres_full,\n",
    "        'to': genres_full\n",
    "    })\n",
    "\n",
    "    # Capitalize words\n",
    "    genre_map['to'] = genre_map['to'].map(lambda a: a.title())\n",
    "\n",
    "    # Trim spaces\n",
    "    genre_map['to'] = genre_map['to'].map(lambda a: a.trim())\n",
    "\n",
    "    # Reduce to unique entries\n",
    "    genre_map = genre_map.drop_duplicates(subset=['from'])\n",
    "\n",
    "    genre_map = genre_map.sort_values('to')\n",
    "\n",
    "    return genre_map\n"
   ],
   "metadata": {
    "collapsed": false,
    "ExecuteTime": {
     "end_time": "2023-06-21T23:33:09.489442Z",
     "start_time": "2023-06-21T23:33:09.488339Z"
    }
   }
  },
  {
   "cell_type": "code",
   "execution_count": 89,
   "outputs": [],
   "source": [
    "out_df = generate_genre_map(df)\n",
    "out_df.to_csv('./genre_mapping.csv', index=True)\n",
    "# out_d\n"
   ],
   "metadata": {
    "collapsed": false,
    "ExecuteTime": {
     "end_time": "2023-06-21T23:37:00.165370Z",
     "start_time": "2023-06-21T23:37:00.155258Z"
    }
   }
  }
 ],
 "metadata": {
  "kernelspec": {
   "display_name": "Python 3",
   "language": "python",
   "name": "python3"
  },
  "language_info": {
   "codemirror_mode": {
    "name": "ipython",
    "version": 2
   },
   "file_extension": ".py",
   "mimetype": "text/x-python",
   "name": "python",
   "nbconvert_exporter": "python",
   "pygments_lexer": "ipython2",
   "version": "2.7.6"
  }
 },
 "nbformat": 4,
 "nbformat_minor": 0
}
