{
 "cells": [
  {
   "cell_type": "code",
   "execution_count": 14,
   "metadata": {
    "collapsed": true,
    "ExecuteTime": {
     "end_time": "2023-07-05T19:19:46.244997Z",
     "start_time": "2023-07-05T19:19:46.243780Z"
    }
   },
   "outputs": [],
   "source": [
    "import os\n",
    "import pandas as pd\n",
    "import sys\n",
    "from minio import Minio, S3Error\n",
    "\n",
    "path = os.path.normpath(os.path.join(os.getcwd(), \"../airflow/dags\"))\n",
    "sys.path.append(path)\n",
    "from gamedata.helpers import get_s3_file, put_s3_file, s3_path_exists\n",
    "\n",
    "PATH_WIKIPEDIA_RESULT = f'wikipedia_result.csv'\n",
    "PATH_METACRITIC_RESULT = f'metacritic_result.csv'\n",
    "\n",
    "MANUAL_MAP = [\n",
    "    ['Action-adv', 'Action-Adventure'],\n",
    "    ['Action-adventure game', 'Action-Adventure'],\n",
    "    ['Action-platform', 'Action-Platformer'],\n",
    "    ['Action-role playing', 'Action Role-Playing'],\n",
    "    ['Acton role-playing', 'Action Role-Playing'],\n",
    "    ['Adventure video game', 'Adventure'],\n",
    "    ['art game', 'Art'],\n",
    "    ['Avtion-platform', 'Platform'],\n",
    "    ['Construction and management', 'Construction And Management Simulation'],\n",
    "    ['dungeon crawl', 'Dungeon Crawler'],\n",
    "    ['Dungeon crawl', 'Dungeon Crawler'],\n",
    "    ['farm simulation', 'Farming Simulation'],\n",
    "    ['Farm simulation', 'Farming Simulation'],\n",
    "    ['fighter', 'Fighting'],\n",
    "    ['First- and third-person shooter', 'First-and-third-person Shooter'],\n",
    "    ['FMV', 'Full Motion Video'],\n",
    "    ['Hack and Slash', 'Hack & Slash'],\n",
    "    ['Hack and slash', 'Hack & Slash'],\n",
    "    ['hack and slash', 'Hack & Slash'],\n",
    "    ['hack-and-slash', 'Hack & Slash'],\n",
    "    ['Life', 'Life Simulation'],\n",
    "    ['management', 'Management Simulation'],\n",
    "    ['Massively multiplayer online', 'MMO'],\n",
    "    ['Massively multiplayer online role-playing', 'MMORPG'],\n",
    "    ['MMORPG', 'MMORPG'],\n",
    "    ['Multidirectional shooter', 'Multi-Directional Shooter'],\n",
    "    ['Physics', 'Physics Based'],\n",
    "    ['Point and click adventure', 'Point & Click Adventure'],\n",
    "    ['Point-and-click', 'Point & Click Adventure'],\n",
    "    ['Point-and-click adventure', 'Point & Click Adventure'],\n",
    "    ['Point-And-Click Adventure', 'Point & Click Adventure'],\n",
    "    ['Puzzle platformer', 'Puzzle-Platformer'],\n",
    "    ['Puzzle Platformer', 'Puzzle-Platformer'],\n",
    "    ['puzzle-platform', 'Puzzle-Platformer'],\n",
    "    ['rhythm-based', 'Rhythm'],\n",
    "    ['rogue-like', 'Roguelike'],\n",
    "    ['Role Playing', 'Role-Playing'],\n",
    "    ['Rougelike', 'Roguelike'],\n",
    "    ['rougelike', 'Roguelike'],\n",
    "    ['run and gun', 'Run \\'N Gun'],\n",
    "    ['Run and gun', 'Run \\'N Gun'],\n",
    "    ['side-scrolling', 'Side-Scroller'],\n",
    "    ['side-scrolling', 'Side-Scroller'],\n",
    "    ['sidescroller', 'Side-Scroller'],\n",
    "    ['simulator', 'Simulation'],\n",
    "    ['Soulslike', 'Souls-Like'],\n",
    "    ['soulslike', 'Souls-Like'],\n",
    "    ['Survival game', 'Survival'],\n",
    "]\n"
   ]
  },
  {
   "cell_type": "code",
   "execution_count": 15,
   "outputs": [],
   "source": [
    "df_wikipedia = get_s3_file(PATH_WIKIPEDIA_RESULT)\n",
    "df_metacritic = get_s3_file(PATH_METACRITIC_RESULT, lineterminator='\\n')\n",
    "\n",
    "df_wikipedia = df_wikipedia.drop(['Unnamed: 0', 'Unnamed: 0.1'], axis=1)\n",
    "df_metacritic = df_metacritic.drop(['Unnamed: 0'], axis=1)"
   ],
   "metadata": {
    "collapsed": false,
    "ExecuteTime": {
     "end_time": "2023-07-05T19:19:49.526785Z",
     "start_time": "2023-07-05T19:19:49.294189Z"
    }
   }
  },
  {
   "cell_type": "code",
   "execution_count": 16,
   "outputs": [
    {
     "data": {
      "text/plain": "                                 Title  \\\n0                             #Funtime   \n1                      #killallzombies   \n2              .hack//G.U. Last Recode   \n3                    10 Second Ninja X   \n4                          1001 Spikes   \n..                                 ...   \n95  Aegis of Earth: Protonovus Assault   \n96                      Aeon Must Die!   \n97                      Aeterna Noctis   \n98                      Aeterna Noctis   \n99                        AeternoBlade   \n\n                                                  URL  Response Code Platform  \\\n0   https://www.metacritic.com/game/playstation-4/...            200      PS4   \n1   https://www.metacritic.com/game/playstation-4/...            200      PS4   \n2   https://www.metacritic.com/game/playstation-4/...            200      PS4   \n3   https://www.metacritic.com/game/playstation-4/...            200      PS4   \n4   https://www.metacritic.com/game/playstation-4/...            200      PS4   \n..                                                ...            ...      ...   \n95  https://www.metacritic.com/game/playstation-4/...            200      PS4   \n96  https://www.metacritic.com/game/playstation-4/...            200      PS4   \n97  https://www.metacritic.com/game/playstation-4/...            200      PS4   \n98  https://www.metacritic.com/game/playstation-5/...            200      PS5   \n99  https://www.metacritic.com/game/playstation-4/...            200      PS4   \n\n                                       Wikipedia Hash  \\\n0   232d1f9a03a7935732c2caaa600c8430bc1ab62d7e5337...   \n1   2adf2c0fb216f44cb64bcc930c686814658fbaa996c3b8...   \n2   eedf0475a44b790fe814a9a9432a3f9b7b91c2ab0ebffb...   \n3   8cd8b97deaa4f4e8ebe3ecf358c0c3eb33b8fe06704a16...   \n4   73a95f52ae8c4af15d5c30604ff4d6f8920a1715d074ba...   \n..                                                ...   \n95  35a397bc8094c67cfdaba4e72840180843001bd2d10879...   \n96  022095e90bcc7f82077321c996f560503ba06469b4f31d...   \n97  9ba11c33a9d75db526972b6acd023bcf90cc00a9a4a441...   \n98  116b693b6134e9b1e1fadace5a837f4a17ec1a83c3b72a...   \n99  5dfdfd97a6145f608c54f217c2fa490168de4b4a3da33e...   \n\n                            Publisher       Release  Metascore  \\\n0   The Quantum Astrophysicists Guild  Jul 16, 2020        NaN   \n1                         Beatshapers  Oct 28, 2014       63.0   \n2                  Bandai Namco Games  Nov  3, 2017       76.0   \n3                       Curve Digital  Jul 19, 2016       76.0   \n4                             Nicalis  Jun  3, 2014       78.0   \n..                                ...           ...        ...   \n95                        Aksys Games  Mar 15, 2016       57.0   \n96             Focus Home Interactive  Oct 14, 2021        NaN   \n97                          SIE Spain  Mar 24, 2022        NaN   \n98                          SIE Spain  Dec 15, 2021       69.0   \n99                Corecell Technology  Aug  4, 2015        NaN   \n\n    Metascore Count Userscore Userscore Count  \\\n0               1.0       tbd             NaN   \n1               6.0       6.6      19 Ratings   \n2              21.0       8.1      72 Ratings   \n3              16.0       5.5      23 Ratings   \n4               8.0       6.5      37 Ratings   \n..              ...       ...             ...   \n95             11.0       6.5      12 Ratings   \n96              2.0       tbd             NaN   \n97              2.0       5.6       5 Ratings   \n98              9.0       7.4      30 Ratings   \n99              2.0       4.5      11 Ratings   \n\n                                              Summary  \\\n0   #Funtime is an explosive twin-stick shooter wh...   \n1   In the distant future; #killallzombies is thru...   \n2   .hack//G.U. is back. Log back into the .hack//...   \n3   10 Second Ninja X is a hardcore sidescroller. ...   \n4   Aban Hawkins & the 1,001 Spikes is a 2D platfo...   \n..                                                ...   \n95  A frenetic new spin on action strategy gaming....   \n96  Aeon Must Die! turns the beat-em-up genre on i...   \n97  Aeterna Noctis is a challenging 2D Metroidvani...   \n98  Aeterna Noctis is a challenging 2D Metroidvani...   \n99  In the region of Awelsia, vengeful Freya trave...   \n\n                            Developer  \\\n0   The Quantum Astrophysicists Guild   \n1                         Beatshapers   \n2                       CyberConnect2   \n3                       GameDesignDan   \n4                             Nicalis   \n..                                ...   \n95                            Acquire   \n96                    Limestone Games   \n97              Aeternum Game Studios   \n98              Aeternum Game Studios   \n99                Corecell Technology   \n\n                                               Genres                Players  \\\n0   ['Action', 'Shooter', \"Shoot-'Em-Up\", 'Top-Down']  No Online Multiplayer   \n1   ['Action', 'Shooter', 'Third-Person', \"Shoot-'...                    NaN   \n2                    ['Miscellaneous', 'Compilation']  No Online Multiplayer   \n3                      ['Action', 'Platformer', '2D']  No Online Multiplayer   \n4   ['Action', 'Platformer', 'Platformer', '2D', '...  No Online Multiplayer   \n..                                                ...                    ...   \n95               ['Strategy', 'Real-Time', 'Defense']                    NaN   \n96  ['Action', 'Action Adventure', 'General', \"Bea...  No Online Multiplayer   \n97     ['Action', 'Platformer', '2D', 'Metroidvania']  No Online Multiplayer   \n98     ['Action', 'Platformer', '2D', 'Metroidvania']  No Online Multiplayer   \n99                     ['Action', 'Platformer', '2D']                    NaN   \n\n   Rating                                              Image  \\\n0       E  https://static.metacritic.com/images/products/...   \n1       T  https://static.metacritic.com/images/products/...   \n2       T  https://static.metacritic.com/images/products/...   \n3       T  https://static.metacritic.com/images/products/...   \n4       T  https://static.metacritic.com/images/products/...   \n..    ...                                                ...   \n95      T  https://static.metacritic.com/images/products/...   \n96      T  https://static.metacritic.com/images/products/...   \n97      T  https://static.metacritic.com/images/products/...   \n98      T  https://static.metacritic.com/images/products/...   \n99   E10+  https://static.metacritic.com/images/products/...   \n\n                                                 Hash  userscore Count  \n0   389deb5a826f15bf6bee3d99f52ad288980b6f9d7c2e34...              NaN  \n1   2adf2c0fb216f44cb64bcc930c686814658fbaa996c3b8...              NaN  \n2   ef3836ea960d6640b40155aa0f3fd45b48d228ec7af77a...              NaN  \n3   5ac8185ec846c8a56b3ae6072046e27afe3a23947d4207...              NaN  \n4   fddae46320f1b4093fc340aa53e53ef4cd77bd72285f83...              NaN  \n..                                                ...              ...  \n95  35a397bc8094c67cfdaba4e72840180843001bd2d10879...              NaN  \n96  022095e90bcc7f82077321c996f560503ba06469b4f31d...              NaN  \n97  56e998a9bf186de6d30fab842c697f5d21111b5df47519...              NaN  \n98  466d445e51c967dd51bd7faae3aad4512ed8a34db32515...              NaN  \n99  f7120798a71af95e6d1448e71d4fc58bb7e6da7c8df4c3...              NaN  \n\n[100 rows x 19 columns]",
      "text/html": "<div>\n<style scoped>\n    .dataframe tbody tr th:only-of-type {\n        vertical-align: middle;\n    }\n\n    .dataframe tbody tr th {\n        vertical-align: top;\n    }\n\n    .dataframe thead th {\n        text-align: right;\n    }\n</style>\n<table border=\"1\" class=\"dataframe\">\n  <thead>\n    <tr style=\"text-align: right;\">\n      <th></th>\n      <th>Title</th>\n      <th>URL</th>\n      <th>Response Code</th>\n      <th>Platform</th>\n      <th>Wikipedia Hash</th>\n      <th>Publisher</th>\n      <th>Release</th>\n      <th>Metascore</th>\n      <th>Metascore Count</th>\n      <th>Userscore</th>\n      <th>Userscore Count</th>\n      <th>Summary</th>\n      <th>Developer</th>\n      <th>Genres</th>\n      <th>Players</th>\n      <th>Rating</th>\n      <th>Image</th>\n      <th>Hash</th>\n      <th>userscore Count</th>\n    </tr>\n  </thead>\n  <tbody>\n    <tr>\n      <th>0</th>\n      <td>#Funtime</td>\n      <td>https://www.metacritic.com/game/playstation-4/...</td>\n      <td>200</td>\n      <td>PS4</td>\n      <td>232d1f9a03a7935732c2caaa600c8430bc1ab62d7e5337...</td>\n      <td>The Quantum Astrophysicists Guild</td>\n      <td>Jul 16, 2020</td>\n      <td>NaN</td>\n      <td>1.0</td>\n      <td>tbd</td>\n      <td>NaN</td>\n      <td>#Funtime is an explosive twin-stick shooter wh...</td>\n      <td>The Quantum Astrophysicists Guild</td>\n      <td>['Action', 'Shooter', \"Shoot-'Em-Up\", 'Top-Down']</td>\n      <td>No Online Multiplayer</td>\n      <td>E</td>\n      <td>https://static.metacritic.com/images/products/...</td>\n      <td>389deb5a826f15bf6bee3d99f52ad288980b6f9d7c2e34...</td>\n      <td>NaN</td>\n    </tr>\n    <tr>\n      <th>1</th>\n      <td>#killallzombies</td>\n      <td>https://www.metacritic.com/game/playstation-4/...</td>\n      <td>200</td>\n      <td>PS4</td>\n      <td>2adf2c0fb216f44cb64bcc930c686814658fbaa996c3b8...</td>\n      <td>Beatshapers</td>\n      <td>Oct 28, 2014</td>\n      <td>63.0</td>\n      <td>6.0</td>\n      <td>6.6</td>\n      <td>19 Ratings</td>\n      <td>In the distant future; #killallzombies is thru...</td>\n      <td>Beatshapers</td>\n      <td>['Action', 'Shooter', 'Third-Person', \"Shoot-'...</td>\n      <td>NaN</td>\n      <td>T</td>\n      <td>https://static.metacritic.com/images/products/...</td>\n      <td>2adf2c0fb216f44cb64bcc930c686814658fbaa996c3b8...</td>\n      <td>NaN</td>\n    </tr>\n    <tr>\n      <th>2</th>\n      <td>.hack//G.U. Last Recode</td>\n      <td>https://www.metacritic.com/game/playstation-4/...</td>\n      <td>200</td>\n      <td>PS4</td>\n      <td>eedf0475a44b790fe814a9a9432a3f9b7b91c2ab0ebffb...</td>\n      <td>Bandai Namco Games</td>\n      <td>Nov  3, 2017</td>\n      <td>76.0</td>\n      <td>21.0</td>\n      <td>8.1</td>\n      <td>72 Ratings</td>\n      <td>.hack//G.U. is back. Log back into the .hack//...</td>\n      <td>CyberConnect2</td>\n      <td>['Miscellaneous', 'Compilation']</td>\n      <td>No Online Multiplayer</td>\n      <td>T</td>\n      <td>https://static.metacritic.com/images/products/...</td>\n      <td>ef3836ea960d6640b40155aa0f3fd45b48d228ec7af77a...</td>\n      <td>NaN</td>\n    </tr>\n    <tr>\n      <th>3</th>\n      <td>10 Second Ninja X</td>\n      <td>https://www.metacritic.com/game/playstation-4/...</td>\n      <td>200</td>\n      <td>PS4</td>\n      <td>8cd8b97deaa4f4e8ebe3ecf358c0c3eb33b8fe06704a16...</td>\n      <td>Curve Digital</td>\n      <td>Jul 19, 2016</td>\n      <td>76.0</td>\n      <td>16.0</td>\n      <td>5.5</td>\n      <td>23 Ratings</td>\n      <td>10 Second Ninja X is a hardcore sidescroller. ...</td>\n      <td>GameDesignDan</td>\n      <td>['Action', 'Platformer', '2D']</td>\n      <td>No Online Multiplayer</td>\n      <td>T</td>\n      <td>https://static.metacritic.com/images/products/...</td>\n      <td>5ac8185ec846c8a56b3ae6072046e27afe3a23947d4207...</td>\n      <td>NaN</td>\n    </tr>\n    <tr>\n      <th>4</th>\n      <td>1001 Spikes</td>\n      <td>https://www.metacritic.com/game/playstation-4/...</td>\n      <td>200</td>\n      <td>PS4</td>\n      <td>73a95f52ae8c4af15d5c30604ff4d6f8920a1715d074ba...</td>\n      <td>Nicalis</td>\n      <td>Jun  3, 2014</td>\n      <td>78.0</td>\n      <td>8.0</td>\n      <td>6.5</td>\n      <td>37 Ratings</td>\n      <td>Aban Hawkins &amp; the 1,001 Spikes is a 2D platfo...</td>\n      <td>Nicalis</td>\n      <td>['Action', 'Platformer', 'Platformer', '2D', '...</td>\n      <td>No Online Multiplayer</td>\n      <td>T</td>\n      <td>https://static.metacritic.com/images/products/...</td>\n      <td>fddae46320f1b4093fc340aa53e53ef4cd77bd72285f83...</td>\n      <td>NaN</td>\n    </tr>\n    <tr>\n      <th>...</th>\n      <td>...</td>\n      <td>...</td>\n      <td>...</td>\n      <td>...</td>\n      <td>...</td>\n      <td>...</td>\n      <td>...</td>\n      <td>...</td>\n      <td>...</td>\n      <td>...</td>\n      <td>...</td>\n      <td>...</td>\n      <td>...</td>\n      <td>...</td>\n      <td>...</td>\n      <td>...</td>\n      <td>...</td>\n      <td>...</td>\n      <td>...</td>\n    </tr>\n    <tr>\n      <th>95</th>\n      <td>Aegis of Earth: Protonovus Assault</td>\n      <td>https://www.metacritic.com/game/playstation-4/...</td>\n      <td>200</td>\n      <td>PS4</td>\n      <td>35a397bc8094c67cfdaba4e72840180843001bd2d10879...</td>\n      <td>Aksys Games</td>\n      <td>Mar 15, 2016</td>\n      <td>57.0</td>\n      <td>11.0</td>\n      <td>6.5</td>\n      <td>12 Ratings</td>\n      <td>A frenetic new spin on action strategy gaming....</td>\n      <td>Acquire</td>\n      <td>['Strategy', 'Real-Time', 'Defense']</td>\n      <td>NaN</td>\n      <td>T</td>\n      <td>https://static.metacritic.com/images/products/...</td>\n      <td>35a397bc8094c67cfdaba4e72840180843001bd2d10879...</td>\n      <td>NaN</td>\n    </tr>\n    <tr>\n      <th>96</th>\n      <td>Aeon Must Die!</td>\n      <td>https://www.metacritic.com/game/playstation-4/...</td>\n      <td>200</td>\n      <td>PS4</td>\n      <td>022095e90bcc7f82077321c996f560503ba06469b4f31d...</td>\n      <td>Focus Home Interactive</td>\n      <td>Oct 14, 2021</td>\n      <td>NaN</td>\n      <td>2.0</td>\n      <td>tbd</td>\n      <td>NaN</td>\n      <td>Aeon Must Die! turns the beat-em-up genre on i...</td>\n      <td>Limestone Games</td>\n      <td>['Action', 'Action Adventure', 'General', \"Bea...</td>\n      <td>No Online Multiplayer</td>\n      <td>T</td>\n      <td>https://static.metacritic.com/images/products/...</td>\n      <td>022095e90bcc7f82077321c996f560503ba06469b4f31d...</td>\n      <td>NaN</td>\n    </tr>\n    <tr>\n      <th>97</th>\n      <td>Aeterna Noctis</td>\n      <td>https://www.metacritic.com/game/playstation-4/...</td>\n      <td>200</td>\n      <td>PS4</td>\n      <td>9ba11c33a9d75db526972b6acd023bcf90cc00a9a4a441...</td>\n      <td>SIE Spain</td>\n      <td>Mar 24, 2022</td>\n      <td>NaN</td>\n      <td>2.0</td>\n      <td>5.6</td>\n      <td>5 Ratings</td>\n      <td>Aeterna Noctis is a challenging 2D Metroidvani...</td>\n      <td>Aeternum Game Studios</td>\n      <td>['Action', 'Platformer', '2D', 'Metroidvania']</td>\n      <td>No Online Multiplayer</td>\n      <td>T</td>\n      <td>https://static.metacritic.com/images/products/...</td>\n      <td>56e998a9bf186de6d30fab842c697f5d21111b5df47519...</td>\n      <td>NaN</td>\n    </tr>\n    <tr>\n      <th>98</th>\n      <td>Aeterna Noctis</td>\n      <td>https://www.metacritic.com/game/playstation-5/...</td>\n      <td>200</td>\n      <td>PS5</td>\n      <td>116b693b6134e9b1e1fadace5a837f4a17ec1a83c3b72a...</td>\n      <td>SIE Spain</td>\n      <td>Dec 15, 2021</td>\n      <td>69.0</td>\n      <td>9.0</td>\n      <td>7.4</td>\n      <td>30 Ratings</td>\n      <td>Aeterna Noctis is a challenging 2D Metroidvani...</td>\n      <td>Aeternum Game Studios</td>\n      <td>['Action', 'Platformer', '2D', 'Metroidvania']</td>\n      <td>No Online Multiplayer</td>\n      <td>T</td>\n      <td>https://static.metacritic.com/images/products/...</td>\n      <td>466d445e51c967dd51bd7faae3aad4512ed8a34db32515...</td>\n      <td>NaN</td>\n    </tr>\n    <tr>\n      <th>99</th>\n      <td>AeternoBlade</td>\n      <td>https://www.metacritic.com/game/playstation-4/...</td>\n      <td>200</td>\n      <td>PS4</td>\n      <td>5dfdfd97a6145f608c54f217c2fa490168de4b4a3da33e...</td>\n      <td>Corecell Technology</td>\n      <td>Aug  4, 2015</td>\n      <td>NaN</td>\n      <td>2.0</td>\n      <td>4.5</td>\n      <td>11 Ratings</td>\n      <td>In the region of Awelsia, vengeful Freya trave...</td>\n      <td>Corecell Technology</td>\n      <td>['Action', 'Platformer', '2D']</td>\n      <td>NaN</td>\n      <td>E10+</td>\n      <td>https://static.metacritic.com/images/products/...</td>\n      <td>f7120798a71af95e6d1448e71d4fc58bb7e6da7c8df4c3...</td>\n      <td>NaN</td>\n    </tr>\n  </tbody>\n</table>\n<p>100 rows × 19 columns</p>\n</div>"
     },
     "execution_count": 16,
     "metadata": {},
     "output_type": "execute_result"
    }
   ],
   "source": [
    "df_metacritic"
   ],
   "metadata": {
    "collapsed": false,
    "ExecuteTime": {
     "end_time": "2023-07-05T19:19:54.912098Z",
     "start_time": "2023-07-05T19:19:54.909303Z"
    }
   }
  },
  {
   "cell_type": "code",
   "execution_count": 12,
   "outputs": [
    {
     "data": {
      "text/plain": "                        title  \\\n3444  Tiny Tina's Wonderlands   \n3445  Tiny Tina's Wonderlands   \n\n                                                    url  response_code  \\\n3444  https://www.metacritic.com/game/playstation-5/...            200   \n3445  https://www.metacritic.com/game/playstation-4/...            200   \n\n               publisher       release  metascore  metascore_count userscore  \\\n3444            2K Games  Mar 25, 2022       76.0             24.0       6.0   \n3445  Gearbox Publishing  Mar 25, 2022        NaN              0.0       4.8   \n\n     userscore_count                                            summary  \\\n3444     141 Ratings  Embark on an epic adventure full of whimsy, wo...   \n3445      36 Ratings  Embark on an epic adventure full of whimsy, wo...   \n\n               developer                                           genres  \\\n3444    Gearbox Software  ['Action', 'Shooter', 'First-Person', 'Arcade']   \n3445  Gearbox Publishing  ['Action', 'Shooter', 'First-Person', 'Arcade']   \n\n      players rating                                              image  \n3444  Up to 4      T  https://static.metacritic.com/images/products/...  \n3445  Up to 4      T  https://static.metacritic.com/images/products/...  ",
      "text/html": "<div>\n<style scoped>\n    .dataframe tbody tr th:only-of-type {\n        vertical-align: middle;\n    }\n\n    .dataframe tbody tr th {\n        vertical-align: top;\n    }\n\n    .dataframe thead th {\n        text-align: right;\n    }\n</style>\n<table border=\"1\" class=\"dataframe\">\n  <thead>\n    <tr style=\"text-align: right;\">\n      <th></th>\n      <th>title</th>\n      <th>url</th>\n      <th>response_code</th>\n      <th>publisher</th>\n      <th>release</th>\n      <th>metascore</th>\n      <th>metascore_count</th>\n      <th>userscore</th>\n      <th>userscore_count</th>\n      <th>summary</th>\n      <th>developer</th>\n      <th>genres</th>\n      <th>players</th>\n      <th>rating</th>\n      <th>image</th>\n    </tr>\n  </thead>\n  <tbody>\n    <tr>\n      <th>3444</th>\n      <td>Tiny Tina's Wonderlands</td>\n      <td>https://www.metacritic.com/game/playstation-5/...</td>\n      <td>200</td>\n      <td>2K Games</td>\n      <td>Mar 25, 2022</td>\n      <td>76.0</td>\n      <td>24.0</td>\n      <td>6.0</td>\n      <td>141 Ratings</td>\n      <td>Embark on an epic adventure full of whimsy, wo...</td>\n      <td>Gearbox Software</td>\n      <td>['Action', 'Shooter', 'First-Person', 'Arcade']</td>\n      <td>Up to 4</td>\n      <td>T</td>\n      <td>https://static.metacritic.com/images/products/...</td>\n    </tr>\n    <tr>\n      <th>3445</th>\n      <td>Tiny Tina's Wonderlands</td>\n      <td>https://www.metacritic.com/game/playstation-4/...</td>\n      <td>200</td>\n      <td>Gearbox Publishing</td>\n      <td>Mar 25, 2022</td>\n      <td>NaN</td>\n      <td>0.0</td>\n      <td>4.8</td>\n      <td>36 Ratings</td>\n      <td>Embark on an epic adventure full of whimsy, wo...</td>\n      <td>Gearbox Publishing</td>\n      <td>['Action', 'Shooter', 'First-Person', 'Arcade']</td>\n      <td>Up to 4</td>\n      <td>T</td>\n      <td>https://static.metacritic.com/images/products/...</td>\n    </tr>\n  </tbody>\n</table>\n</div>"
     },
     "execution_count": 12,
     "metadata": {},
     "output_type": "execute_result"
    }
   ],
   "source": [
    "\n",
    "df_core = pd.DataFrame(columns=[\n",
    "    'Title',\n",
    "    'Platform',\n",
    "    'Developer',\n",
    "    'Publisher',\n",
    "    'Genre',\n",
    "    'Rating'\n",
    "    'Metascore',\n",
    "    'Metascore Count',\n",
    "    'Userscore',\n",
    "    'Userscore Count',\n",
    "    'NA Release',\n",
    "    'NA TBA',\n",
    "    'NA Release Date',\n",
    "    'JP Release',\n",
    "    'JP TBA',\n",
    "    'JP Release Date',\n",
    "    'PAL Release',\n",
    "    'PAL TBA',\n",
    "    'PAL Release Date',\n",
    "    'Crossbuy',\n",
    "    'Crossplay',\n",
    "    '3DTV',\n",
    "    'PS Camera',\n",
    "    'PS4 Pro Enhanced',\n",
    "    'Play Link',\n",
    "    'PSVR',\n",
    "    'PSVR2',\n",
    "    'Wikipedia Link',\n",
    "    'Metacritic Link',\n",
    "    'Hash',\n",
    "])\n",
    "\n",
    "# def find_in_metacritic(title):\n",
    "\n",
    "\n",
    "# for index, row in df_wikipedia.iterrows():\n",
    "#     print(row['Title'])\n",
    "\n",
    "# df_core['Title'] = df_wikipedia['']\n",
    "\n",
    "name = \"Tiny Tina's Wonderlands\"\n",
    "\n",
    "df_metacritic.loc[df_metacritic['wikipedia_hash'] == '71a52050ca45502bb1a46e1b21d3cda529c40bfe5c6da1ce33e2352044e594d3']\n"
   ],
   "metadata": {
    "collapsed": false,
    "ExecuteTime": {
     "end_time": "2023-07-04T20:04:28.497440Z",
     "start_time": "2023-07-04T20:04:28.494552Z"
    }
   }
  },
  {
   "cell_type": "code",
   "execution_count": null,
   "outputs": [],
   "source": [],
   "metadata": {
    "collapsed": false
   }
  }
 ],
 "metadata": {
  "kernelspec": {
   "display_name": "Python 3",
   "language": "python",
   "name": "python3"
  },
  "language_info": {
   "codemirror_mode": {
    "name": "ipython",
    "version": 2
   },
   "file_extension": ".py",
   "mimetype": "text/x-python",
   "name": "python",
   "nbconvert_exporter": "python",
   "pygments_lexer": "ipython2",
   "version": "2.7.6"
  }
 },
 "nbformat": 4,
 "nbformat_minor": 0
}
