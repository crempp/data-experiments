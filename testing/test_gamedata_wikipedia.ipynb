{
 "cells": [
  {
   "cell_type": "code",
   "execution_count": 1,
   "metadata": {
    "collapsed": true,
    "ExecuteTime": {
     "end_time": "2023-06-20T16:57:26.135567Z",
     "start_time": "2023-06-20T16:57:25.410464Z"
    }
   },
   "outputs": [],
   "source": [
    "from bs4 import BeautifulSoup\n",
    "import dateparser\n",
    "import hashlib\n",
    "import os\n",
    "import pandas as pd\n",
    "import requests\n",
    "import re\n",
    "\n",
    "BASE_PATH = os.getcwd()\n",
    "GAME_PATH = os.path.join(BASE_PATH,'GameData')\n",
    "GAME_DATA_PATH = os.path.join(GAME_PATH, 'data')\n",
    "\n",
    "# Page URL\n",
    "url_wikipedia_ps5 = 'https://en.wikipedia.org/wiki/List_of_PlayStation_5_games'\n",
    "url_wikipedia_ps4_AL = 'https://en.wikipedia.org/wiki/List_of_PlayStation_4_games_(A%E2%80%93L)'\n",
    "url_wikipedia_ps4_MZ = 'https://en.wikipedia.org/wiki/List_of_PlayStation_4_games_(M%E2%80%93Z)'\n",
    "\n",
    "column_names = [\n",
    "        'Title',\n",
    "         'Genre',\n",
    "         'Developer',\n",
    "         'Publisher',\n",
    "         'Release Date JP',\n",
    "         'Release Date NA',\n",
    "         'Release Date PAL',\n",
    "         'Unreleased JP',\n",
    "         'Unreleased NA',\n",
    "         'Unreleased PAL',\n",
    "         'TBA JP',\n",
    "         'TBA NA',\n",
    "         'TBA PAL',\n",
    "         'Crossbuy',\n",
    "         'Crossplay',\n",
    "         '3DTV',\n",
    "         'PS Camera',\n",
    "         'PS4 Pro Enhanced',\n",
    "         'Play Link',\n",
    "         'PSVR',\n",
    "         'PSVR2',\n",
    "         'Wikipedia Link',\n",
    "    ]"
   ]
  },
  {
   "cell_type": "code",
   "execution_count": 2,
   "outputs": [],
   "source": [
    "############################################################\n",
    "#\n",
    "# Functions\n",
    "#\n",
    "############################################################\n",
    "def extract_list(bs):\n",
    "  # Search for multiple items within tags\n",
    "  items = bs.find_all(['a','li','p'])\n",
    "\n",
    "  # If we didn't find anything return the plain text\n",
    "  if items is None or len(items) == 0:\n",
    "    return (bs.text.strip(), )\n",
    "  else:\n",
    "    return tuple(i.text.strip() for i in items)\n",
    "\n",
    "def extract_link(c):\n",
    "    linked = c.find_all('a', href=True)\n",
    "    if len(linked) > 0:\n",
    "        return f'https://en.wikipedia.org{linked[0][\"href\"]}'\n",
    "    else:\n",
    "        return None\n",
    "\n",
    "def get_and_clean_wikipedia_list(url, platform):\n",
    "    # Request the page\n",
    "    response = requests.get(url)\n",
    "\n",
    "    # Parse HTML content using BeautifulSoup\n",
    "    soup = BeautifulSoup(response.text, 'html.parser')\n",
    "\n",
    "    # Get the table of games\n",
    "    table = soup.find('table', id='softwarelist')\n",
    "\n",
    "    # Extract all the table rows\n",
    "    tr = table.find_all('tr')[2:]\n",
    "\n",
    "    # For each Row extract data cells\n",
    "    raw_cells = list(map(lambda x: x.find_all(['th','td']), tr))\n",
    "\n",
    "    # Create a data Frame\n",
    "    df = pd.DataFrame(raw_cells)\n",
    "    df.columns =['Title',\n",
    "                 'Genre',\n",
    "                 'Developer',\n",
    "                 'Publisher',\n",
    "                 'Release Date JP',\n",
    "                 'Release Date NA',\n",
    "                 'Release Date PAL',\n",
    "                 'Addons',\n",
    "                 'Ref']\n",
    "\n",
    "    # Clean Data\n",
    "    df['Wikipedia Link'] = df['Title'].map(extract_link)\n",
    "    df['Title'] = df['Title'].map(lambda a: a.text.strip())\n",
    "    df['Genre'] = df['Genre'].map(extract_list) # TODO: Normalize genres\n",
    "    df['Developer'] = df['Developer'].map(lambda a: a.text.strip())\n",
    "    df['Publisher'] = df['Publisher'].map(lambda a: a.text.strip())\n",
    "    df['Unreleased JP'] = df['Release Date JP'].map(lambda a: a.text.strip() == 'Unreleased')\n",
    "    df['Unreleased NA'] = df['Release Date NA'].map(lambda a: a.text.strip() == 'Unreleased')\n",
    "    df['Unreleased PAL'] = df['Release Date PAL'].map(lambda a: a.text.strip() == 'Unreleased')\n",
    "    df['TBA JP'] = df['Release Date JP'].map(lambda a: a.text.strip() == 'TBA')\n",
    "    df['TBA NA'] = df['Release Date NA'].map(lambda a: a.text.strip() == 'TBA')\n",
    "    df['TBA PAL'] = df['Release Date PAL'].map(lambda a: a.text.strip() == 'TBA')\n",
    "    df['Release Date JP'] = df['Release Date JP'].map(lambda a: dateparser.parse(a.text.strip()))\n",
    "    df['Release Date NA'] = df['Release Date NA'].map(lambda a: dateparser.parse(a.text.strip()))\n",
    "    df['Release Date PAL'] = df['Release Date PAL'].map(lambda a: dateparser.parse(a.text.strip()))\n",
    "    df['Crossbuy'] = df['Addons'].map(lambda a: False if a is None else 'CB' in a.text)\n",
    "    df['Crossplay'] = df['Addons'].map(lambda a: False if a is None else 'CP' in a.text)\n",
    "    df['3DTV'] = df['Addons'].map(lambda a: False if a is None else '3D' in a.text)\n",
    "    df['PS Camera'] = df['Addons'].map(lambda a: False if a is None else 'C' in a.text)\n",
    "    df['PS4 Pro Enhanced'] = df['Addons'].map(lambda a: False if a is None else 'P' in a.text)\n",
    "    df['Play Link'] = df['Addons'].map(lambda a: False if a is None else 'PL' in a.text)\n",
    "    df['PSVR'] = df['Addons'].map(lambda a: False if a is None else 'VR' in a.text)\n",
    "    df['PSVR2'] = df['Addons'].map(lambda a: False if a is None else 'VR2' in a.text)\n",
    "    df['Platform'] = platform\n",
    "\n",
    "    # Create a hash to uniquely identify the entry\n",
    "    df['Hash'] = (df['Title'] + df['Developer'] + df['Publisher'] + df['Platform'])\n",
    "    df['Hash'] = df['Hash'].map(lambda a: re.sub(r'\\W+', '', a).lower())\n",
    "    df['Hash'] = df['Hash'].map(lambda a: hashlib.sha256(a.encode('utf-8')).hexdigest())\n",
    "\n",
    "    # Drop unnecessary columns\n",
    "    df = df.drop(columns=['Addons', 'Ref'])\n",
    "\n",
    "    return df"
   ],
   "metadata": {
    "collapsed": false,
    "ExecuteTime": {
     "end_time": "2023-06-20T16:57:28.991450Z",
     "start_time": "2023-06-20T16:57:28.987924Z"
    }
   }
  },
  {
   "cell_type": "code",
   "execution_count": 3,
   "outputs": [
    {
     "ename": "OSError",
     "evalue": "Cannot save file into a non-existent directory: '/Users/crempp/projects/data-experiments/GameData/GameData/data'",
     "output_type": "error",
     "traceback": [
      "\u001B[0;31m---------------------------------------------------------------------------\u001B[0m",
      "\u001B[0;31mOSError\u001B[0m                                   Traceback (most recent call last)",
      "Cell \u001B[0;32mIn[3], line 15\u001B[0m\n\u001B[1;32m     12\u001B[0m df \u001B[38;5;241m=\u001B[39m df\u001B[38;5;241m.\u001B[39mmerge(df_ps5, how\u001B[38;5;241m=\u001B[39m\u001B[38;5;124m'\u001B[39m\u001B[38;5;124mouter\u001B[39m\u001B[38;5;124m'\u001B[39m)\n\u001B[1;32m     13\u001B[0m df \u001B[38;5;241m=\u001B[39m df\u001B[38;5;241m.\u001B[39msort_values(by\u001B[38;5;241m=\u001B[39m[\u001B[38;5;124m'\u001B[39m\u001B[38;5;124mTitle\u001B[39m\u001B[38;5;124m'\u001B[39m])\n\u001B[0;32m---> 15\u001B[0m \u001B[43mdf\u001B[49m\u001B[38;5;241;43m.\u001B[39;49m\u001B[43mto_pickle\u001B[49m\u001B[43m(\u001B[49m\u001B[43mos\u001B[49m\u001B[38;5;241;43m.\u001B[39;49m\u001B[43mpath\u001B[49m\u001B[38;5;241;43m.\u001B[39;49m\u001B[43mjoin\u001B[49m\u001B[43m(\u001B[49m\u001B[43mGAME_DATA_PATH\u001B[49m\u001B[43m,\u001B[49m\u001B[43m \u001B[49m\u001B[38;5;124;43m'\u001B[39;49m\u001B[38;5;124;43mwikipedia.pkl\u001B[39;49m\u001B[38;5;124;43m'\u001B[39;49m\u001B[43m)\u001B[49m\u001B[43m)\u001B[49m\n",
      "File \u001B[0;32m~/projects/data-experiments/venv/lib/python3.9/site-packages/pandas/core/generic.py:2955\u001B[0m, in \u001B[0;36mNDFrame.to_pickle\u001B[0;34m(self, path, compression, protocol, storage_options)\u001B[0m\n\u001B[1;32m   2903\u001B[0m \u001B[38;5;250m\u001B[39m\u001B[38;5;124;03m\"\"\"\u001B[39;00m\n\u001B[1;32m   2904\u001B[0m \u001B[38;5;124;03mPickle (serialize) object to file.\u001B[39;00m\n\u001B[1;32m   2905\u001B[0m \n\u001B[0;32m   (...)\u001B[0m\n\u001B[1;32m   2951\u001B[0m \u001B[38;5;124;03m4    4    9\u001B[39;00m\n\u001B[1;32m   2952\u001B[0m \u001B[38;5;124;03m\"\"\"\u001B[39;00m  \u001B[38;5;66;03m# noqa: E501\u001B[39;00m\n\u001B[1;32m   2953\u001B[0m \u001B[38;5;28;01mfrom\u001B[39;00m \u001B[38;5;21;01mpandas\u001B[39;00m\u001B[38;5;21;01m.\u001B[39;00m\u001B[38;5;21;01mio\u001B[39;00m\u001B[38;5;21;01m.\u001B[39;00m\u001B[38;5;21;01mpickle\u001B[39;00m \u001B[38;5;28;01mimport\u001B[39;00m to_pickle\n\u001B[0;32m-> 2955\u001B[0m \u001B[43mto_pickle\u001B[49m\u001B[43m(\u001B[49m\n\u001B[1;32m   2956\u001B[0m \u001B[43m    \u001B[49m\u001B[38;5;28;43mself\u001B[39;49m\u001B[43m,\u001B[49m\n\u001B[1;32m   2957\u001B[0m \u001B[43m    \u001B[49m\u001B[43mpath\u001B[49m\u001B[43m,\u001B[49m\n\u001B[1;32m   2958\u001B[0m \u001B[43m    \u001B[49m\u001B[43mcompression\u001B[49m\u001B[38;5;241;43m=\u001B[39;49m\u001B[43mcompression\u001B[49m\u001B[43m,\u001B[49m\n\u001B[1;32m   2959\u001B[0m \u001B[43m    \u001B[49m\u001B[43mprotocol\u001B[49m\u001B[38;5;241;43m=\u001B[39;49m\u001B[43mprotocol\u001B[49m\u001B[43m,\u001B[49m\n\u001B[1;32m   2960\u001B[0m \u001B[43m    \u001B[49m\u001B[43mstorage_options\u001B[49m\u001B[38;5;241;43m=\u001B[39;49m\u001B[43mstorage_options\u001B[49m\u001B[43m,\u001B[49m\n\u001B[1;32m   2961\u001B[0m \u001B[43m\u001B[49m\u001B[43m)\u001B[49m\n",
      "File \u001B[0;32m~/projects/data-experiments/venv/lib/python3.9/site-packages/pandas/io/pickle.py:95\u001B[0m, in \u001B[0;36mto_pickle\u001B[0;34m(obj, filepath_or_buffer, compression, protocol, storage_options)\u001B[0m\n\u001B[1;32m     92\u001B[0m \u001B[38;5;28;01mif\u001B[39;00m protocol \u001B[38;5;241m<\u001B[39m \u001B[38;5;241m0\u001B[39m:\n\u001B[1;32m     93\u001B[0m     protocol \u001B[38;5;241m=\u001B[39m pickle\u001B[38;5;241m.\u001B[39mHIGHEST_PROTOCOL\n\u001B[0;32m---> 95\u001B[0m \u001B[38;5;28;01mwith\u001B[39;00m \u001B[43mget_handle\u001B[49m\u001B[43m(\u001B[49m\n\u001B[1;32m     96\u001B[0m \u001B[43m    \u001B[49m\u001B[43mfilepath_or_buffer\u001B[49m\u001B[43m,\u001B[49m\n\u001B[1;32m     97\u001B[0m \u001B[43m    \u001B[49m\u001B[38;5;124;43m\"\u001B[39;49m\u001B[38;5;124;43mwb\u001B[39;49m\u001B[38;5;124;43m\"\u001B[39;49m\u001B[43m,\u001B[49m\n\u001B[1;32m     98\u001B[0m \u001B[43m    \u001B[49m\u001B[43mcompression\u001B[49m\u001B[38;5;241;43m=\u001B[39;49m\u001B[43mcompression\u001B[49m\u001B[43m,\u001B[49m\n\u001B[1;32m     99\u001B[0m \u001B[43m    \u001B[49m\u001B[43mis_text\u001B[49m\u001B[38;5;241;43m=\u001B[39;49m\u001B[38;5;28;43;01mFalse\u001B[39;49;00m\u001B[43m,\u001B[49m\n\u001B[1;32m    100\u001B[0m \u001B[43m    \u001B[49m\u001B[43mstorage_options\u001B[49m\u001B[38;5;241;43m=\u001B[39;49m\u001B[43mstorage_options\u001B[49m\u001B[43m,\u001B[49m\n\u001B[1;32m    101\u001B[0m \u001B[43m\u001B[49m\u001B[43m)\u001B[49m \u001B[38;5;28;01mas\u001B[39;00m handles:\n\u001B[1;32m    102\u001B[0m     \u001B[38;5;66;03m# letting pickle write directly to the buffer is more memory-efficient\u001B[39;00m\n\u001B[1;32m    103\u001B[0m     pickle\u001B[38;5;241m.\u001B[39mdump(obj, handles\u001B[38;5;241m.\u001B[39mhandle, protocol\u001B[38;5;241m=\u001B[39mprotocol)\n",
      "File \u001B[0;32m~/projects/data-experiments/venv/lib/python3.9/site-packages/pandas/io/common.py:737\u001B[0m, in \u001B[0;36mget_handle\u001B[0;34m(path_or_buf, mode, encoding, compression, memory_map, is_text, errors, storage_options)\u001B[0m\n\u001B[1;32m    735\u001B[0m \u001B[38;5;66;03m# Only for write methods\u001B[39;00m\n\u001B[1;32m    736\u001B[0m \u001B[38;5;28;01mif\u001B[39;00m \u001B[38;5;124m\"\u001B[39m\u001B[38;5;124mr\u001B[39m\u001B[38;5;124m\"\u001B[39m \u001B[38;5;129;01mnot\u001B[39;00m \u001B[38;5;129;01min\u001B[39;00m mode \u001B[38;5;129;01mand\u001B[39;00m is_path:\n\u001B[0;32m--> 737\u001B[0m     \u001B[43mcheck_parent_directory\u001B[49m\u001B[43m(\u001B[49m\u001B[38;5;28;43mstr\u001B[39;49m\u001B[43m(\u001B[49m\u001B[43mhandle\u001B[49m\u001B[43m)\u001B[49m\u001B[43m)\u001B[49m\n\u001B[1;32m    739\u001B[0m \u001B[38;5;28;01mif\u001B[39;00m compression:\n\u001B[1;32m    740\u001B[0m     \u001B[38;5;28;01mif\u001B[39;00m compression \u001B[38;5;241m!=\u001B[39m \u001B[38;5;124m\"\u001B[39m\u001B[38;5;124mzstd\u001B[39m\u001B[38;5;124m\"\u001B[39m:\n\u001B[1;32m    741\u001B[0m         \u001B[38;5;66;03m# compression libraries do not like an explicit text-mode\u001B[39;00m\n",
      "File \u001B[0;32m~/projects/data-experiments/venv/lib/python3.9/site-packages/pandas/io/common.py:600\u001B[0m, in \u001B[0;36mcheck_parent_directory\u001B[0;34m(path)\u001B[0m\n\u001B[1;32m    598\u001B[0m parent \u001B[38;5;241m=\u001B[39m Path(path)\u001B[38;5;241m.\u001B[39mparent\n\u001B[1;32m    599\u001B[0m \u001B[38;5;28;01mif\u001B[39;00m \u001B[38;5;129;01mnot\u001B[39;00m parent\u001B[38;5;241m.\u001B[39mis_dir():\n\u001B[0;32m--> 600\u001B[0m     \u001B[38;5;28;01mraise\u001B[39;00m \u001B[38;5;167;01mOSError\u001B[39;00m(\u001B[38;5;124mrf\u001B[39m\u001B[38;5;124m\"\u001B[39m\u001B[38;5;124mCannot save file into a non-existent directory: \u001B[39m\u001B[38;5;124m'\u001B[39m\u001B[38;5;132;01m{\u001B[39;00mparent\u001B[38;5;132;01m}\u001B[39;00m\u001B[38;5;124m'\u001B[39m\u001B[38;5;124m\"\u001B[39m)\n",
      "\u001B[0;31mOSError\u001B[0m: Cannot save file into a non-existent directory: '/Users/crempp/projects/data-experiments/GameData/GameData/data'"
     ]
    }
   ],
   "source": [
    "# Get Wikipedia PS5 games\n",
    "df_ps5 = get_and_clean_wikipedia_list(url_wikipedia_ps5, 'PS5')\n",
    "\n",
    "# Get Wikipedia PS4 games A-L\n",
    "df_ps4_a = get_and_clean_wikipedia_list(url_wikipedia_ps4_AL, 'PS4')\n",
    "\n",
    "# Get Wikipedia PS4 games M-Z\n",
    "df_ps4_m = get_and_clean_wikipedia_list(url_wikipedia_ps4_MZ, 'PS4')\n",
    "\n",
    "# Merge lists\n",
    "df = df_ps4_a.merge(df_ps4_m, how='outer')\n",
    "df = df.merge(df_ps5, how='outer')\n",
    "df = df.sort_values(by=['Title'])\n",
    "\n",
    "df.to_pickle(os.path.join(GAME_DATA_PATH, 'wikipedia.pkl'))\n"
   ],
   "metadata": {
    "collapsed": false,
    "ExecuteTime": {
     "end_time": "2023-06-20T16:57:53.392530Z",
     "start_time": "2023-06-20T16:57:32.646462Z"
    }
   }
  },
  {
   "cell_type": "code",
   "execution_count": 11,
   "outputs": [],
   "source": [
    "response = requests.get(url_wikipedia_ps4_AL)\n",
    "soup = BeautifulSoup(response.text, 'html.parser')\n",
    "table = soup.find('table', id='softwarelist')\n",
    "tr = table.find_all('tr')[2:]\n",
    "raw_cells = list(map(lambda x: x.find_all(['th','td']), tr))\n",
    "df = pd.DataFrame(raw_cells)\n",
    "df.columns =['Title',\n",
    "             'Genre',\n",
    "             'Developer',\n",
    "             'Publisher',\n",
    "             'Release Date JP',\n",
    "             'Release Date NA',\n",
    "             'Release Date PAL',\n",
    "             'Addons',\n",
    "             'Ref']"
   ],
   "metadata": {
    "collapsed": false,
    "ExecuteTime": {
     "end_time": "2023-06-20T17:01:06.532307Z",
     "start_time": "2023-06-20T17:01:05.387892Z"
    }
   }
  },
  {
   "cell_type": "code",
   "execution_count": 12,
   "outputs": [
    {
     "data": {
      "text/plain": "bs4.element.Tag"
     },
     "execution_count": 12,
     "metadata": {},
     "output_type": "execute_result"
    }
   ],
   "source": [
    "# df_ps4_a.info()\n",
    "type(df.loc[0, \"Genre\"])\n"
   ],
   "metadata": {
    "collapsed": false,
    "ExecuteTime": {
     "end_time": "2023-06-20T17:01:15.731029Z",
     "start_time": "2023-06-20T17:01:15.728593Z"
    }
   }
  }
 ],
 "metadata": {
  "kernelspec": {
   "display_name": "Python 3",
   "language": "python",
   "name": "python3"
  },
  "language_info": {
   "codemirror_mode": {
    "name": "ipython",
    "version": 2
   },
   "file_extension": ".py",
   "mimetype": "text/x-python",
   "name": "python",
   "nbconvert_exporter": "python",
   "pygments_lexer": "ipython2",
   "version": "2.7.6"
  }
 },
 "nbformat": 4,
 "nbformat_minor": 0
}
